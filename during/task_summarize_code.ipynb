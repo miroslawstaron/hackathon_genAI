{
 "cells": [
  {
   "attachments": {},
   "cell_type": "markdown",
   "metadata": {
    "id": "M1oqh0F6W3ad"
   },
   "source": [
    "# Using a pre-trained model from Huggingface to summarize code\n",
    "\n",
    "In this workbook, we demonstrate models that can be used to summarize code. We use the `transformers` library from Huggingface to load a pre-trained model and use it to summarize code. We use the `t5-small` model for this purpose."
   ]
  },
  {
   "cell_type": "code",
   "execution_count": 1,
   "metadata": {},
   "outputs": [],
   "source": [
    "import warnings\n",
    "warnings.filterwarnings(\"ignore\", category=DeprecationWarning)"
   ]
  },
  {
   "cell_type": "markdown",
   "metadata": {},
   "source": [
    "## Using models for code summarization\n",
    "\n",
    "This model is the CodeT5 model for summarizing source code. \n",
    "\n",
    "An example model is available here: https://huggingface.co/Salesforce/codet5-base-multi-sum "
   ]
  },
  {
   "cell_type": "code",
   "execution_count": 2,
   "metadata": {},
   "outputs": [
    {
     "name": "stdout",
     "output_type": "stream",
     "text": [
      "Converts a SVG string to a QImage.\n"
     ]
    }
   ],
   "source": [
    "from transformers import RobertaTokenizer, T5ForConditionalGeneration\n",
    "\n",
    "\n",
    "tokenizer = RobertaTokenizer.from_pretrained('Salesforce/codet5-base-multi-sum')\n",
    "model = T5ForConditionalGeneration.from_pretrained('Salesforce/codet5-base-multi-sum')\n",
    "\n",
    "text = \"\"\"def svg_to_image(string, size=None):\n",
    "if isinstance(string, unicode):\n",
    "    string = string.encode('utf-8')\n",
    "    renderer = QtSvg.QSvgRenderer(QtCore.QByteArray(string))\n",
    "if not renderer.isValid():\n",
    "    raise ValueError('Invalid SVG data.')\n",
    "if size is None:\n",
    "    size = renderer.defaultSize()\n",
    "    image = QtGui.QImage(size, QtGui.QImage.Format_ARGB32)\n",
    "    painter = QtGui.QPainter(image)\n",
    "    renderer.render(painter)\n",
    "return image\"\"\"\n",
    "\n",
    "input_ids = tokenizer(text, return_tensors=\"pt\").input_ids\n",
    "\n",
    "generated_ids = model.generate(input_ids, max_length=20)\n",
    "print(tokenizer.decode(generated_ids[0], skip_special_tokens=True))\n",
    "\n",
    "# this prints: \"Convert a SVG string to a QImage.\""
   ]
  },
  {
   "cell_type": "markdown",
   "metadata": {},
   "source": [
    "## Where to go from here\n",
    "\n",
    "Once that this model works, you can use it to summarize code in your own projects. You can also use other models from Huggingface for this purpose.\n",
    "\n",
    "1. Create a script that will send one line at a time to the model and generate the comment for it\n",
    "    a. Please take a look at the `max_length` parameter in the `generate` function. This parameter controls the maximum length of the output. You can change it to a different value if you want to generate longer or shorter comments.\n",
    "2. Create a script that will send one function at a time and generate the description of it. \n",
    "    a. Pleae remember that the model has an input window, so not all functions will be summarized correctly. You can try to split the function into smaller parts and summarize them separately."
   ]
  }
 ],
 "metadata": {
  "accelerator": "GPU",
  "colab": {
   "machine_shape": "hm",
   "provenance": []
  },
  "kernelspec": {
   "display_name": "Python 3",
   "language": "python",
   "name": "python3"
  },
  "language_info": {
   "codemirror_mode": {
    "name": "ipython",
    "version": 3
   },
   "file_extension": ".py",
   "mimetype": "text/x-python",
   "name": "python",
   "nbconvert_exporter": "python",
   "pygments_lexer": "ipython3",
   "version": "3.11.8"
  }
 },
 "nbformat": 4,
 "nbformat_minor": 1
}
