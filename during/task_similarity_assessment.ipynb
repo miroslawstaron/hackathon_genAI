{
 "cells": [
  {
   "attachments": {},
   "cell_type": "markdown",
   "metadata": {
    "id": "M1oqh0F6W3ad"
   },
   "source": [
    "# Using a pre-trained model from Huggingface to calculate similarity between code fragments\n",
    "\n",
    "This workbook demonstrates how to use a pre-trained model from Huggingface to calculate similarity between code fragments. The model used is `microsoft/codebert-base`. The code fragments are tokenized and then passed through the model to get the embeddings. The embeddings are then used to calculate the similarity between the code fragments."
   ]
  },
  {
   "cell_type": "code",
   "execution_count": null,
   "metadata": {},
   "outputs": [],
   "source": [
    "import warnings\n",
    "warnings.filterwarnings(\"ignore\", category=DeprecationWarning)"
   ]
  },
  {
   "cell_type": "markdown",
   "metadata": {},
   "source": [
    "## Downloading the model\n",
    "\n",
    "When we use the model from Huggingface, we do not have to worry about tokenizers and other elements. We can just use the model directly. \n"
   ]
  },
  {
   "cell_type": "code",
   "execution_count": 15,
   "metadata": {},
   "outputs": [],
   "source": [
    "# import the feature extraction pipeline\n",
    "from transformers import pipeline\n",
    "\n",
    "# create the pipeline, which will extract the embedding vectors\n",
    "# the models are already pre-defined, so we do not need to train anything here\n",
    "features = pipeline(\n",
    "    \"feature-extraction\",\n",
    "    model=\"microsoft/codebert-base\",\n",
    "    tokenizer=\"microsoft/codebert-base\", \n",
    "    return_tensor = False\n",
    ")\n",
    "\n",
    "# extract the features == embeddings\n",
    "lstFeaturesTest = features('Class Singleton::X1')\n",
    "lstFeaturesRefPositive = features('Class Singleton::Singleton')\n",
    "lstFeaturesRefNegative = features('Class SpoonNotSingleton::SpoonNotSingleton')\n",
    "\n",
    "# print the first token's embedding [CLS]\n",
    "# which is also a good approximation of the whole sentence embedding\n",
    "# the same as using np.mean(lstFeatures[0], axis=0)\n",
    "embeddingsTest = lstFeaturesTest[0][0]\n",
    "embeddingsRefPositive = lstFeaturesRefPositive[0][0]\n",
    "embeddingsRefNegative = lstFeaturesRefNegative[0][0]"
   ]
  },
  {
   "cell_type": "code",
   "execution_count": 13,
   "metadata": {},
   "outputs": [
    {
     "name": "stdout",
     "output_type": "stream",
     "text": [
      "Similarity to positive reference: [[0.9991091]]\n",
      "Similarity to negative reference: [[0.99717971]]\n",
      "Is Singleton: [[ True]]\n"
     ]
    }
   ],
   "source": [
    "# now, calculate the cosine similarity between the test and the reference embeddings\n",
    "from sklearn.metrics.pairwise import cosine_similarity\n",
    "\n",
    "# calculate the cosine similarity between the test and the reference embeddings\n",
    "similarityPositive = cosine_similarity([embeddingsTest], [embeddingsRefPositive])\n",
    "similarityNegative = cosine_similarity([embeddingsTest], [embeddingsRefNegative])\n",
    "\n",
    "print('Similarity to positive reference:', similarityPositive)\n",
    "print('Similarity to negative reference:', similarityNegative)\n",
    "\n",
    "# if the positive reference is closer to the test embedding than the negative reference\n",
    "# then the test embedding is considered to be Singleton\n",
    "isSingleton = similarityPositive > similarityNegative\n",
    "print('Is Singleton:', isSingleton)\n"
   ]
  },
  {
   "cell_type": "code",
   "execution_count": 24,
   "metadata": {},
   "outputs": [
    {
     "data": {
      "image/png": "[encoded data removed]",
      "text/plain": [
       "<Figure size 640x480 with 1 Axes>"
      ]
     },
     "metadata": {},
     "output_type": "display_data"
    }
   ],
   "source": [
    "# we can also use t-SNE to visualize the embeddings\n",
    "import numpy as np\n",
    "import matplotlib.pyplot as plt\n",
    "\n",
    "from sklearn.manifold import TSNE\n",
    "\n",
    "# create a t-SNE model\n",
    "model = TSNE(n_components=2, random_state=42, perplexity=2)\n",
    "\n",
    "# fit the model to the data\n",
    "np.set_printoptions(suppress=True)\n",
    "\n",
    "# create a 2D representation of the embeddings\n",
    "Y = model.fit_transform(np.vstack([embeddingsTest, embeddingsRefPositive, embeddingsRefNegative]))\n",
    "\n",
    "# Tableau color palette\n",
    "tableau_colors = ['tab:blue', 'tab:green', 'tab:red']\n",
    "\n",
    "# plot the 2D representation\n",
    "plt.scatter(Y[0][0], Y[0][1], color=tableau_colors[0])\n",
    "plt.scatter(Y[1][0], Y[1][1], color=tableau_colors[1])\n",
    "plt.scatter(Y[2][0], Y[2][1], color=tableau_colors[2])\n",
    "\n",
    "# add the labels\n",
    "plt.text(Y[0][0], Y[0][1], 'Test', color=tableau_colors[0])\n",
    "plt.text(Y[1][0], Y[1][1], 'Positive (singleton)', color=tableau_colors[1])\n",
    "plt.text(Y[2][0], Y[2][1], 'Negative (non-singleton)', color=tableau_colors[2])\n",
    "\n",
    "# add gridlines\n",
    "plt.grid(True)\n",
    "\n",
    "# show the plot\n",
    "plt.show()"
   ]
  },
  {
   "cell_type": "markdown",
   "metadata": {},
   "source": [
    "## Where to go from here\n",
    "\n",
    "Now that you know how to turn code fragments into embeddings and calculate similarity, you can use this to build a code search engine, or to find similar code fragments in a large codebase. \n",
    "\n",
    "1. Create a script that looks for security vulnerabilities in a larger code base. \n",
    "    a. you can use this repository for some examples: https://github.com/conikeec/seeve or https://github.com/tuhh-softsec/vul4j "
   ]
  }
 ],
 "metadata": {
  "accelerator": "GPU",
  "colab": {
   "machine_shape": "hm",
   "provenance": []
  },
  "kernelspec": {
   "display_name": "Python 3",
   "language": "python",
   "name": "python3"
  },
  "language_info": {
   "codemirror_mode": {
    "name": "ipython",
    "version": 3
   },
   "file_extension": ".py",
   "mimetype": "text/x-python",
   "name": "python",
   "nbconvert_exporter": "python",
   "pygments_lexer": "ipython3",
   "version": "3.11.8"
  }
 },
 "nbformat": 4,
 "nbformat_minor": 1
}
