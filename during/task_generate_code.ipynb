{
 "cells": [
  {
   "attachments": {},
   "cell_type": "markdown",
   "metadata": {
    "id": "M1oqh0F6W3ad"
   },
   "source": [
    "# Using a pre-trained model from Huggingface to generate code\n",
    "\n",
    "This notebook demonstrates how to use a pre-trained model from Huggingface to generate code. The model used in this notebook is `codebert-base` which is a transformer model trained on a large corpus of text data. The model is fine-tuned on the `python` programming language to generate code."
   ]
  },
  {
   "cell_type": "code",
   "execution_count": 1,
   "metadata": {},
   "outputs": [],
   "source": [
    "import warnings\n",
    "warnings.filterwarnings(\"ignore\", category=DeprecationWarning)"
   ]
  },
  {
   "cell_type": "markdown",
   "metadata": {},
   "source": [
    "## Downloading the model\n",
    "\n",
    "When we use the model from Huggingface, we do not have to worry about tokenizers and other elements. We can just use the model directly. \n"
   ]
  },
  {
   "cell_type": "code",
   "execution_count": 2,
   "metadata": {},
   "outputs": [
    {
     "name": "stderr",
     "output_type": "stream",
     "text": [
      "Some weights of RobertaForMaskedLM were not initialized from the model checkpoint at microsoft/codebert-base and are newly initialized: ['lm_head.bias', 'lm_head.decoder.bias', 'lm_head.dense.bias', 'lm_head.dense.weight', 'lm_head.layer_norm.bias', 'lm_head.layer_norm.weight']\n",
      "You should probably TRAIN this model on a down-stream task to be able to use it for predictions and inference.\n"
     ]
    }
   ],
   "source": [
    "# import the model via the huggingface library\n",
    "from transformers import AutoTokenizer, AutoModelForMaskedLM\n",
    "\n",
    "# load the tokenizer and the model for the pretrained SingBERTa\n",
    "tokenizer = AutoTokenizer.from_pretrained('microsoft/codebert-base')\n",
    "\n",
    "# load the model\n",
    "model = AutoModelForMaskedLM.from_pretrained(\"microsoft/codebert-base\")"
   ]
  },
  {
   "cell_type": "markdown",
   "metadata": {},
   "source": [
    "# Using the right pipeline\n",
    "\n",
    "Every model has a set of pipelines defined for it, depending on what the model can do. For example, a model that is trained for text generation will have a pipeline for text generation.\n",
    "\n",
    "The model we are using is a BERT model, which is trained for token classification. We can use the `pipeline` function to get the right pipeline for the model."
   ]
  },
  {
   "cell_type": "code",
   "execution_count": 3,
   "metadata": {},
   "outputs": [
    {
     "name": "stderr",
     "output_type": "stream",
     "text": [
      "2024-03-19 09:09:25.307835: E external/local_xla/xla/stream_executor/cuda/cuda_dnn.cc:9261] Unable to register cuDNN factory: Attempting to register factory for plugin cuDNN when one has already been registered\n",
      "2024-03-19 09:09:25.309930: E external/local_xla/xla/stream_executor/cuda/cuda_fft.cc:607] Unable to register cuFFT factory: Attempting to register factory for plugin cuFFT when one has already been registered\n",
      "2024-03-19 09:09:25.600270: E external/local_xla/xla/stream_executor/cuda/cuda_blas.cc:1515] Unable to register cuBLAS factory: Attempting to register factory for plugin cuBLAS when one has already been registered\n",
      "2024-03-19 09:09:26.323114: I tensorflow/core/platform/cpu_feature_guard.cc:182] This TensorFlow binary is optimized to use available CPU instructions in performance-critical operations.\n",
      "To enable the following instructions: AVX2 FMA, in other operations, rebuild TensorFlow with the appropriate compiler flags.\n",
      "2024-03-19 09:09:34.603122: W tensorflow/compiler/tf2tensorrt/utils/py_utils.cc:38] TF-TRT Warning: Could not find TensorRT\n"
     ]
    },
    {
     "data": {
      "text/plain": [
       "[{'score': 0.1198003888130188,\n",
       "  'token': 25741,\n",
       "  'token_str': 'omew',\n",
       "  'sequence': \"def HelloWorld():\\nreturn 'omew'\"},\n",
       " {'score': 0.10780282318592072,\n",
       "  'token': 24336,\n",
       "  'token_str': 'cool',\n",
       "  'sequence': \"def HelloWorld():\\nreturn 'cool'\"},\n",
       " {'score': 0.04159999638795853,\n",
       "  'token': 33408,\n",
       "  'token_str': ' discouraging',\n",
       "  'sequence': \"def HelloWorld():\\nreturn'discouraging'\"},\n",
       " {'score': 0.02758779563009739,\n",
       "  'token': 5715,\n",
       "  'token_str': 'ood',\n",
       "  'sequence': \"def HelloWorld():\\nreturn 'ood'\"},\n",
       " {'score': 0.02332727238535881,\n",
       "  'token': 42627,\n",
       "  'token_str': 'Develop',\n",
       "  'sequence': \"def HelloWorld():\\nreturn 'Develop'\"}]"
      ]
     },
     "execution_count": 3,
     "metadata": {},
     "output_type": "execute_result"
    }
   ],
   "source": [
    "# import the pipeline \n",
    "from transformers import pipeline\n",
    "\n",
    "# load the pipeline for text generation\n",
    "fill_mask = pipeline(\n",
    "    \"fill-mask\",\n",
    "    model=model,\n",
    "    tokenizer=tokenizer\n",
    ")\n",
    "\n",
    "# define the code snippet\n",
    "code_snippet = '''def HelloWorld():\n",
    "'''\n",
    "# generate the code\n",
    "generatedCode = fill_mask(code_snippet + \"return '<mask>'\")\n",
    "\n",
    "# print the suggestions for the generated code\n",
    "generatedCode"
   ]
  },
  {
   "cell_type": "markdown",
   "metadata": {},
   "source": [
    "## Another model\n",
    "\n",
    "The model below is Code Parrot. It's not very big, but still can generate code."
   ]
  },
  {
   "cell_type": "code",
   "execution_count": null,
   "metadata": {},
   "outputs": [],
   "source": [
    "# now, let's do the same for CodeParrot model\n",
    "from transformers import AutoTokenizer, AutoModelWithLMHead, pipeline\n",
    "\n",
    "# load the tokenizer and the model for the pretrained SingBERTa\n",
    "tokenizer = AutoTokenizer.from_pretrained('codeparrot/codeparrot')\n",
    "\n",
    "# load the model\n",
    "model = AutoModelWithLMHead.from_pretrained(\"codeparrot/codeparrot\")\n",
    "\n",
    "# load the pipeline for text generation\n",
    "pipe = pipeline(\"text-generation\", model=\"codeparrot/codeparrot\")\n",
    "\n",
    "# define the code snippet\n",
    "code_snippet = '''def HelloWorld():\n",
    "'''\n",
    "# generate the code\n",
    "generatedCode = pipe(code_snippet)\n",
    "\n",
    "# print the suggestions for the generated code\n",
    "generatedCode"
   ]
  },
  {
   "cell_type": "markdown",
   "metadata": {},
   "source": [
    "## Where to go from here\n",
    "\n",
    "Once you look into these models, you can go into the following directions:\n",
    "1. Use a different model\n",
    "    a. Take a look at the `Models for programming languages.md` for a list of other models that are available for programming languages. These models are small enough to run on a laptop and large enough to be useful. \n",
    "2. Create a script that will generate function bodies. \n",
    "    a. Instead of generating code and that's it, write a function that will parse the `code_snipped` output and truncate it\n",
    "3. Use the model to generate code based on a prompt\n",
    "    a. For this task, you need to use a model that has an `instruct` pipeline, e.g., one of the smaller Falcon models, a small Mistral model or a small Llama model. "
   ]
  }
 ],
 "metadata": {
  "accelerator": "GPU",
  "colab": {
   "machine_shape": "hm",
   "provenance": []
  },
  "kernelspec": {
   "display_name": "Python 3",
   "language": "python",
   "name": "python3"
  },
  "language_info": {
   "codemirror_mode": {
    "name": "ipython",
    "version": 3
   },
   "file_extension": ".py",
   "mimetype": "text/x-python",
   "name": "python",
   "nbconvert_exporter": "python",
   "pygments_lexer": "ipython3",
   "version": "3.11.8"
  }
 },
 "nbformat": 4,
 "nbformat_minor": 1
}
